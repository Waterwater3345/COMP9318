{
 "cells": [
  {
   "cell_type": "markdown",
   "metadata": {},
   "source": [
    "# Question 1: Text Classification using Multinomial Naive Bayes\n",
    "\n",
    "You are required to implement a multinomial naive bayes classifier to predict spam SMS.\n",
    "\n",
    "The training data is a set of SMS categoried into `spam` and `ham`."
   ]
  },
  {
   "cell_type": "code",
   "execution_count": 1,
   "metadata": {
    "collapsed": false
   },
   "outputs": [
    {
     "name": "stdout",
     "output_type": "stream",
     "text": [
      "[({'Go': 1, 'until': 1, 'jurong': 1, 'point,': 1, 'crazy..': 1, 'Available': 1, 'only': 1, 'in': 1, 'bugis': 1, 'n': 1, 'great': 1, 'world': 1, 'la': 1, 'e': 1, 'buffet...': 1, 'Cine': 1, 'there': 1, 'got': 1, 'amore': 1, 'wat...': 1}, 'ham'), ({'Ok': 1, 'lar...': 1, 'Joking': 1, 'wif': 1, 'u': 1, 'oni...': 1}, 'ham'), ({'Free': 1, 'entry': 2, 'in': 1, '2': 1, 'a': 1, 'wkly': 1, 'comp': 1, 'to': 3, 'win': 1, 'FA': 2, 'Cup': 1, 'final': 1, 'tkts': 1, '21st': 1, 'May': 1, '2005.': 1, 'Text': 1, '87121': 1, 'receive': 1, 'question(std': 1, 'txt': 1, \"rate)T&C's\": 1, 'apply': 1, \"08452810075over18's\": 1}, 'spam'), ({'U': 2, 'dun': 1, 'say': 1, 'so': 1, 'early': 1, 'hor...': 1, 'c': 1, 'already': 1, 'then': 1, 'say...': 1}, 'ham'), ({'Nah': 1, 'I': 1, \"don't\": 1, 'think': 1, 'he': 2, 'goes': 1, 'to': 1, 'usf,': 1, 'lives': 1, 'around': 1, 'here': 1, 'though': 1}, 'ham'), ({'FreeMsg': 1, 'Hey': 1, 'there': 1, 'darling': 1, \"it's\": 1, 'been': 1, '3': 1, \"week's\": 1, 'now': 1, 'and': 1, 'no': 1, 'word': 1, 'back!': 1, \"I'd\": 1, 'like': 1, 'some': 1, 'fun': 1, 'you': 1, 'up': 1, 'for': 1, 'it': 1, 'still?': 1, 'Tb': 1, 'ok!': 1, 'XxX': 1, 'std': 1, 'chgs': 1, 'to': 2, 'send,': 1, '£1.50': 1, 'rcv': 1}, 'spam')]\n",
      "54\n",
      "48\n",
      "102\n",
      "{'May', 'been', 'you', 'so', 'dun', 'up', 'jurong', 'send,', 'darling', \"rate)T&C's\", 'buffet...', \"I'd\", 'say...', 'e', 'comp', 'bugis', 'only', 'great', 'still?', 'receive', 'around', 'final', 'apply', 'Hey', 'U', 'no', 'Available', 'txt', 'Cine', 'now', 'Joking', 'Tb', 'some', 'I', '£1.50', 'spam', 'there', \"don't\", 'la', 'wif', 'and', 'like', 'for', 'entry', 'fun', 'wkly', 'he', 'until', 'world', 'am', 'early', \"it's\", 'it', 'Cup', 'n', 'already', 'rcv', 'crazy..', \"08452810075over18's\", 'Free', 'std', \"week's\", 'Go', 'win', '87121', 'goes', '2', 'tkts', 'think', 'to', 'Nah', 'oni...', 'say', 'Text', 'lar...', 'c', 'hor...', 'though', 'u', 'here', 'XxX', 'got', 'not', 'FA', 'chgs', 'back!', 'a', 'question(std', '2005.', 'lives', 'amore', 'FreeMsg', '3', 'Ok', 'word', 'usf,', 'ok!', 'wat...', '21st', 'point,', 'in', 'then'}\n",
      "54\n",
      "48\n",
      "102\n",
      "{'May', 'been', 'you', 'so', 'dun', 'up', 'jurong', 'send,', 'darling', \"rate)T&C's\", 'buffet...', \"I'd\", 'say...', 'e', 'comp', 'bugis', 'only', 'great', 'still?', 'receive', 'around', 'final', 'apply', 'Hey', 'U', 'no', 'Available', 'txt', 'Cine', 'now', 'Joking', 'Tb', 'some', 'I', '£1.50', 'spam', 'there', \"don't\", 'la', 'wif', 'and', 'like', 'for', 'entry', 'fun', 'wkly', 'he', 'until', 'world', 'am', 'early', \"it's\", 'it', 'Cup', 'n', 'already', 'rcv', 'crazy..', \"08452810075over18's\", 'Free', 'std', \"week's\", 'Go', 'win', '87121', 'goes', '2', 'tkts', 'think', 'to', 'Nah', 'oni...', 'say', 'Text', 'lar...', 'c', 'hor...', 'though', 'u', 'here', 'XxX', 'got', 'not', 'FA', 'chgs', 'back!', 'a', 'question(std', '2005.', 'lives', 'amore', 'FreeMsg', '3', 'Ok', 'word', 'usf,', 'ok!', 'wat...', '21st', 'point,', 'in', 'then'}\n",
      "I 1 0.006172839506172839 ... 2 0.013157894736842105\n",
      "reslut 0.4691358024691358\n",
      "54\n",
      "48\n",
      "102\n",
      "{'May', 'been', 'you', 'so', 'dun', 'up', 'jurong', 'send,', 'darling', \"rate)T&C's\", 'buffet...', \"I'd\", 'say...', 'e', 'comp', 'bugis', 'only', 'great', 'still?', 'receive', 'around', 'final', 'apply', 'Hey', 'U', 'no', 'Available', 'txt', 'Cine', 'now', 'Joking', 'Tb', 'some', 'I', '£1.50', 'spam', 'there', \"don't\", 'la', 'wif', 'and', 'like', 'for', 'entry', 'fun', 'wkly', 'he', 'until', 'world', 'am', 'early', \"it's\", 'it', 'Cup', 'n', 'already', 'rcv', 'crazy..', \"08452810075over18's\", 'Free', 'std', \"week's\", 'Go', 'win', '87121', 'goes', '2', 'tkts', 'think', 'to', 'Nah', 'oni...', 'say', 'Text', 'lar...', 'c', 'hor...', 'though', 'u', 'here', 'XxX', 'got', 'not', 'FA', 'chgs', 'back!', 'a', 'question(std', '2005.', 'lives', 'amore', 'FreeMsg', '3', 'Ok', 'word', 'usf,', 'ok!', 'wat...', '21st', 'point,', 'in', 'then'}\n",
      "54\n",
      "48\n",
      "102\n",
      "{'May', 'been', 'you', 'so', 'dun', 'up', 'jurong', 'send,', 'darling', \"rate)T&C's\", 'buffet...', \"I'd\", 'say...', 'e', 'comp', 'bugis', 'only', 'great', 'still?', 'receive', 'around', 'final', 'apply', 'Hey', 'U', 'no', 'Available', 'txt', 'Cine', 'now', 'Joking', 'Tb', 'some', 'I', '£1.50', 'spam', 'there', \"don't\", 'la', 'wif', 'and', 'like', 'for', 'entry', 'fun', 'wkly', 'he', 'until', 'world', 'am', 'early', \"it's\", 'it', 'Cup', 'n', 'already', 'rcv', 'crazy..', \"08452810075over18's\", 'Free', 'std', \"week's\", 'Go', 'win', '87121', 'goes', '2', 'tkts', 'think', 'to', 'Nah', 'oni...', 'say', 'Text', 'lar...', 'c', 'hor...', 'though', 'u', 'here', 'XxX', 'got', 'not', 'FA', 'chgs', 'back!', 'a', 'question(std', '2005.', 'lives', 'amore', 'FreeMsg', '3', 'Ok', 'word', 'usf,', 'ok!', 'wat...', '21st', 'point,', 'in', 'then'}\n",
      "am 1 0.006172839506172839 ... 1 0.006578947368421052\n",
      "reslut 0.44017680231671996\n",
      "54\n",
      "48\n",
      "102\n",
      "{'May', 'been', 'you', 'so', 'dun', 'up', 'jurong', 'send,', 'darling', \"rate)T&C's\", 'buffet...', \"I'd\", 'say...', 'e', 'comp', 'bugis', 'only', 'great', 'still?', 'receive', 'around', 'final', 'apply', 'Hey', 'U', 'no', 'Available', 'txt', 'Cine', 'now', 'Joking', 'Tb', 'some', 'I', '£1.50', 'spam', 'there', \"don't\", 'la', 'wif', 'and', 'like', 'for', 'entry', 'fun', 'wkly', 'he', 'until', 'world', 'am', 'early', \"it's\", 'it', 'Cup', 'n', 'already', 'rcv', 'crazy..', \"08452810075over18's\", 'Free', 'std', \"week's\", 'Go', 'win', '87121', 'goes', '2', 'tkts', 'think', 'to', 'Nah', 'oni...', 'say', 'Text', 'lar...', 'c', 'hor...', 'though', 'u', 'here', 'XxX', 'got', 'not', 'FA', 'chgs', 'back!', 'a', 'question(std', '2005.', 'lives', 'amore', 'FreeMsg', '3', 'Ok', 'word', 'usf,', 'ok!', 'wat...', '21st', 'point,', 'in', 'then'}\n",
      "54\n",
      "48\n",
      "102\n",
      "{'May', 'been', 'you', 'so', 'dun', 'up', 'jurong', 'send,', 'darling', \"rate)T&C's\", 'buffet...', \"I'd\", 'say...', 'e', 'comp', 'bugis', 'only', 'great', 'still?', 'receive', 'around', 'final', 'apply', 'Hey', 'U', 'no', 'Available', 'txt', 'Cine', 'now', 'Joking', 'Tb', 'some', 'I', '£1.50', 'spam', 'there', \"don't\", 'la', 'wif', 'and', 'like', 'for', 'entry', 'fun', 'wkly', 'he', 'until', 'world', 'am', 'early', \"it's\", 'it', 'Cup', 'n', 'already', 'rcv', 'crazy..', \"08452810075over18's\", 'Free', 'std', \"week's\", 'Go', 'win', '87121', 'goes', '2', 'tkts', 'think', 'to', 'Nah', 'oni...', 'say', 'Text', 'lar...', 'c', 'hor...', 'though', 'u', 'here', 'XxX', 'got', 'not', 'FA', 'chgs', 'back!', 'a', 'question(std', '2005.', 'lives', 'amore', 'FreeMsg', '3', 'Ok', 'word', 'usf,', 'ok!', 'wat...', '21st', 'point,', 'in', 'then'}\n",
      "not 1 0.006172839506172839 ... 1 0.006578947368421052\n",
      "reslut 0.4130053947663051\n",
      "54\n",
      "48\n",
      "102\n",
      "{'May', 'been', 'you', 'so', 'dun', 'up', 'jurong', 'send,', 'darling', \"rate)T&C's\", 'buffet...', \"I'd\", 'say...', 'e', 'comp', 'bugis', 'only', 'great', 'still?', 'receive', 'around', 'final', 'apply', 'Hey', 'U', 'no', 'Available', 'txt', 'Cine', 'now', 'Joking', 'Tb', 'some', 'I', '£1.50', 'spam', 'there', \"don't\", 'la', 'wif', 'and', 'like', 'for', 'entry', 'fun', 'wkly', 'he', 'until', 'world', 'am', 'early', \"it's\", 'it', 'Cup', 'n', 'already', 'rcv', 'crazy..', \"08452810075over18's\", 'Free', 'std', \"week's\", 'Go', 'win', '87121', 'goes', '2', 'tkts', 'think', 'to', 'Nah', 'oni...', 'say', 'Text', 'lar...', 'c', 'hor...', 'though', 'u', 'here', 'XxX', 'got', 'not', 'FA', 'chgs', 'back!', 'a', 'question(std', '2005.', 'lives', 'amore', 'FreeMsg', '3', 'Ok', 'word', 'usf,', 'ok!', 'wat...', '21st', 'point,', 'in', 'then'}\n",
      "54\n",
      "48\n",
      "102\n",
      "{'May', 'been', 'you', 'so', 'dun', 'up', 'jurong', 'send,', 'darling', \"rate)T&C's\", 'buffet...', \"I'd\", 'say...', 'e', 'comp', 'bugis', 'only', 'great', 'still?', 'receive', 'around', 'final', 'apply', 'Hey', 'U', 'no', 'Available', 'txt', 'Cine', 'now', 'Joking', 'Tb', 'some', 'I', '£1.50', 'spam', 'there', \"don't\", 'la', 'wif', 'and', 'like', 'for', 'entry', 'fun', 'wkly', 'he', 'until', 'world', 'am', 'early', \"it's\", 'it', 'Cup', 'n', 'already', 'rcv', 'crazy..', \"08452810075over18's\", 'Free', 'std', \"week's\", 'Go', 'win', '87121', 'goes', '2', 'tkts', 'think', 'to', 'Nah', 'oni...', 'say', 'Text', 'lar...', 'c', 'hor...', 'though', 'u', 'here', 'XxX', 'got', 'not', 'FA', 'chgs', 'back!', 'a', 'question(std', '2005.', 'lives', 'amore', 'FreeMsg', '3', 'Ok', 'word', 'usf,', 'ok!', 'wat...', '21st', 'point,', 'in', 'then'}\n",
      "spam 1 0.006172839506172839 ... 1 0.006578947368421052\n",
      "reslut 0.3875112345955455\n",
      "0.3875112345955455\n"
     ]
    }
   ],
   "source": [
    "import pandas as pd\n",
    "\n",
    "raw_data = pd.read_csv('./asset/data.txt', sep='\\t')\n",
    "raw_data.head()\n",
    "def tokenize(sms):\n",
    "    return sms.split(' ')\n",
    "\n",
    "def get_freq_of_tokens(sms):\n",
    "    tokens = {}\n",
    "    for token in tokenize(sms):\n",
    "        if token not in tokens:\n",
    "            tokens[token] = 1\n",
    "        else:\n",
    "            tokens[token] += 1\n",
    "    return tokens\n",
    "\n",
    "training_data = []\n",
    "for index in range(len(raw_data)):\n",
    "    training_data.append((get_freq_of_tokens(raw_data.iloc[index].text), raw_data.iloc[index].category))\n",
    "    \n",
    "import submission\n",
    "print(training_data)\n",
    "sms = 'I am not spam'\n",
    "print(submission.multinomial_nb(training_data, tokenize(sms)))"
   ]
  },
  {
   "cell_type": "code",
   "execution_count": 4,
   "metadata": {
    "collapsed": false,
    "scrolled": true
   },
   "outputs": [
    {
     "data": {
      "text/plain": [
       "Counter({\"08452810075over18's\": 1,\n",
       "         '2': 1,\n",
       "         '2005.': 1,\n",
       "         '21st': 1,\n",
       "         '87121': 1,\n",
       "         'Available': 1,\n",
       "         'Cine': 1,\n",
       "         'Cup': 1,\n",
       "         'FA': 2,\n",
       "         'Free': 1,\n",
       "         'Go': 1,\n",
       "         'Joking': 1,\n",
       "         'May': 1,\n",
       "         'Ok': 1,\n",
       "         'Text': 1,\n",
       "         'a': 1,\n",
       "         'amore': 1,\n",
       "         'apply': 1,\n",
       "         'buffet...': 1,\n",
       "         'bugis': 1,\n",
       "         'comp': 1,\n",
       "         'crazy..': 1,\n",
       "         'e': 1,\n",
       "         'entry': 2,\n",
       "         'final': 1,\n",
       "         'got': 1,\n",
       "         'great': 1,\n",
       "         'in': 2,\n",
       "         'jurong': 1,\n",
       "         'la': 1,\n",
       "         'lar...': 1,\n",
       "         'n': 1,\n",
       "         'oni...': 1,\n",
       "         'only': 1,\n",
       "         'point,': 1,\n",
       "         'question(std': 1,\n",
       "         \"rate)T&C's\": 1,\n",
       "         'receive': 1,\n",
       "         'there': 1,\n",
       "         'tkts': 1,\n",
       "         'to': 3,\n",
       "         'txt': 1,\n",
       "         'u': 1,\n",
       "         'until': 1,\n",
       "         'wat...': 1,\n",
       "         'wif': 1,\n",
       "         'win': 1,\n",
       "         'wkly': 1,\n",
       "         'world': 1})"
      ]
     },
     "execution_count": 4,
     "metadata": {},
     "output_type": "execute_result"
    }
   ],
   "source": [
    "a = submission.merge_dicts(training_data[1][0], training_data[2][0])\n",
    "submission.merge_dicts(a,  training_data[0][0])\n"
   ]
  },
  {
   "cell_type": "markdown",
   "metadata": {},
   "source": [
    "# Submission\n",
    "\n",
    "You need to complete the `multinomial_nb()` function in `submission.py`, and submit your code to the online submission system. Similar to the previous labs, you will receive your score in a few minutes.\n",
    "\n",
    "You can submit for unlimited times.\n",
    "\n",
    "# Test Environment\n",
    "\n",
    "We have pre-installed the following modules, you can only use these modules and the built-in modules and functions.\n",
    "* python: 3.5.2\n",
    "* pandas: 0.19.2\n",
    "\n",
    "NOTE: you need to implement the classifier by yourself. Therefore you cannot import sklearn in Lab3."
   ]
  },
  {
   "cell_type": "code",
   "execution_count": null,
   "metadata": {
    "collapsed": true
   },
   "outputs": [],
   "source": []
  },
  {
   "cell_type": "code",
   "execution_count": null,
   "metadata": {
    "collapsed": true
   },
   "outputs": [],
   "source": []
  },
  {
   "cell_type": "code",
   "execution_count": null,
   "metadata": {
    "collapsed": true
   },
   "outputs": [],
   "source": []
  },
  {
   "cell_type": "code",
   "execution_count": null,
   "metadata": {
    "collapsed": true
   },
   "outputs": [],
   "source": []
  }
 ],
 "metadata": {
  "kernelspec": {
   "display_name": "Python 3",
   "language": "python",
   "name": "python3"
  },
  "language_info": {
   "codemirror_mode": {
    "name": "ipython",
    "version": 3
   },
   "file_extension": ".py",
   "mimetype": "text/x-python",
   "name": "python",
   "nbconvert_exporter": "python",
   "pygments_lexer": "ipython3",
   "version": "3.6.0"
  }
 },
 "nbformat": 4,
 "nbformat_minor": 2
}
