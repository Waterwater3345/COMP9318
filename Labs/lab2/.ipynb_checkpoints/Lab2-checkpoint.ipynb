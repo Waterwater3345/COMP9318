{
 "cells": [
  {
   "cell_type": "markdown",
   "metadata": {},
   "source": [
    "# Question 1: Optimized BUC algorithm (50 points)\n",
    "\n",
    "You need to implement the full `buc_rec_optimized` algorithm with the single-tuple optimization (to be described below). Given an input dataframe\n",
    "\n",
    " A | B | M \n",
    "---|---|---\n",
    " 1 | 2 | 100\n",
    " 2 | 1 | 20\n",
    "\n",
    "Invoking on `buc_rec_optimized` will have the following dataframe: \n",
    "\n",
    "\n",
    " A | B | M\n",
    "---|---|---\n",
    " 1 | 2 | 100\n",
    " 1 |ALL| 100\n",
    " 2 | 1 | 20 \n",
    " 2 |ALL| 20\n",
    "ALL| 1 | 20\n",
    "ALL| 2 | 100\n",
    "ALL|ALL| 120\n",
    "\n",
    "In the submission file, the `buc_rec_optimized` function and its helper functions are all pre-defined. \n",
    "\n",
    "## Input and output\n",
    "\n",
    "The input and output are both dataframes.\n",
    "\n",
    "The input dataframe (i.e., the base cuboid) is directly generated from a csv file. Given the dimensionality of the base cuboid is $d$, each row is like:\n",
    "\n",
    "<pre>\n",
    "v_1  v_2 ...  v_d  m\n",
    "</pre>\n",
    "\n",
    "where v_i is the cell's value on the i-th dimension, and m is the measure value. \n",
    "\n",
    "The output dataframe contains $n$ rows, each for a non-empty cell in the compute data cube derived from the input base cuboid. Each row is formatted like input:\n",
    "\n",
    "<pre>\n",
    "v_1  v_2 ...  v_d  m\n",
    "</pre>\n",
    "\n",
    "where v_i is the cell's value on the i-th dimension, and m is the measure value. \n",
    "\n",
    "\n",
    "## The single-tuple optimization\n",
    "\n",
    "Consider the naive way of recursive implementation of the BUC algorithm, you will notice that it uses several recursive calls to compute all the derived results from an input that consists of only one tuple. This is certainly a waste of computation. \n",
    "\n",
    "For example, if we are asked to compute the cube given the following input\n",
    "\n",
    " B | C | M \n",
    "---|---|---\n",
    " 1 | 2 | 100\n",
    "\n",
    "We can immmediately output the following, **without** using any recursive calls. \n",
    "\n",
    "<pre>\n",
    "1    2    100\n",
    "*    2    100\n",
    "1    *    100\n",
    "*    *    100\n",
    "</pre>\n",
    "\n"
   ]
  },
  {
   "cell_type": "code",
   "execution_count": 3,
   "metadata": {
    "collapsed": true
   },
   "outputs": [],
   "source": [
    "# These are the only modules that you can use in lab2\n",
    "import pandas as pd\n",
    "import numpy as np\n",
    "from helper import *"
   ]
  },
  {
   "cell_type": "code",
   "execution_count": 4,
   "metadata": {
    "collapsed": true
   },
   "outputs": [],
   "source": [
    "##============================================================\n",
    "# Data file format: \n",
    "# * tab-delimited input file\n",
    "# * 1st line: dimension names and the last dimension is assumed to be the measure\n",
    "# * rest of the lines: data values.\n",
    "\n",
    "\n"
   ]
  },
  {
   "cell_type": "code",
   "execution_count": 109,
   "metadata": {
    "collapsed": false
   },
   "outputs": [],
   "source": [
    "def deepcopy(list):\n",
    "    b = []\n",
    "    for i in list:\n",
    "        b.append(i)\n",
    "    return b\n",
    "def read_data(filename):\n",
    "    df = pd.read_csv(filename, sep='\\t')\n",
    "    return (df)\n",
    "def output(val):\n",
    "    print('=>\\t{}'.format(val))\n",
    "\n",
    "def one_dim_duc(df):\n",
    "    vals = list(df.loc[0])\n",
    "    result = [vals[:-1]]\n",
    "    temp = []\n",
    "    i = 0\n",
    "    for i, val in enumerate(result):\n",
    "        temp = deepcopy(val)\n",
    "        for j, list_val in enumerate(temp):\n",
    "            if list_val != 'ALL':\n",
    "                temp2 = deepcopy(temp)\n",
    "                temp2[j] = 'ALL'\n",
    "                if set(temp2) != {'ALL'}:\n",
    "                    result.append(temp2)\n",
    "    result.append(['ALL' for i in vals[:-1]])    \n",
    "    for i in result:\n",
    "        i.append(vals[-1])\n",
    "    result = pd.DataFrame(result, columns = list(df))\n",
    "    return result\n",
    "        \n",
    "    \n",
    "    \n",
    "def buc_rec_optimized(df):# do not change the heading of the function\n",
    "    all_list = []\n",
    "      \n",
    "    if df.shape[0] == 1:\n",
    "        df_out = one_dim_duc(df) \n",
    "    else:\n",
    "        header = list(df)\n",
    "        df_out = pd.DataFrame(columns = header)\n",
    "        _buc_rec_optimized(df, [], df_out)\n",
    "    return df_out\n",
    "    \n",
    "def _buc_rec_optimized(df, pre_num, df_out):#help function\n",
    "    # Note that input is a DataFrame\n",
    "    dims = df.shape[1]\n",
    "    \n",
    "    if dims == 1:\n",
    "        # only the measure dim\n",
    "        input_sum = sum(project_data(df, 0) )\n",
    "        pre_num.append(input_sum)\n",
    "\n",
    "        df_out.loc[len(df_out)] = pre_num\n",
    "        \n",
    "    else:\n",
    "        # the general case\n",
    "\n",
    "        dim0_vals = set(project_data(df, 0).values)\n",
    "        temp_pre_num = deepcopy(pre_num)\n",
    "        for dim0_v in dim0_vals:\n",
    "            pre_num = deepcopy(temp_pre_num)\n",
    "            sub_data = slice_data_dim0(df, dim0_v)   \n",
    "            pre_num.append(dim0_v)\n",
    "            \n",
    "            _buc_rec_optimized(sub_data, pre_num, df_out)\n",
    "        ## for R_{ALL}\n",
    "        sub_data = remove_first_dim(df)\n",
    "        \n",
    "        pre_num = deepcopy(temp_pre_num)\n",
    "        pre_num.append(\"ALL\")\n",
    "        _buc_rec_optimized(sub_data, pre_num, df_out)  \n"
   ]
  },
  {
   "cell_type": "code",
   "execution_count": 110,
   "metadata": {
    "collapsed": false
   },
   "outputs": [
    {
     "data": {
      "text/plain": [
       "['A', 'B', 'C', 'M']"
      ]
     },
     "execution_count": 110,
     "metadata": {},
     "output_type": "execute_result"
    }
   ],
   "source": [
    "list(input_data)\n"
   ]
  },
  {
   "cell_type": "code",
   "execution_count": 111,
   "metadata": {
    "collapsed": false
   },
   "outputs": [
    {
     "name": "stdout",
     "output_type": "stream",
     "text": [
      "[[1, 2, 3, 100], ['ALL', 2, 3, 100], [1, 'ALL', 3, 100], [1, 2, 'ALL', 100], ['ALL', 'ALL', 3, 100], ['ALL', 2, 'ALL', 100], ['ALL', 'ALL', 3, 100], [1, 'ALL', 'ALL', 100], ['ALL', 2, 'ALL', 100], [1, 'ALL', 'ALL', 100], ['ALL', 'ALL', 'ALL', 100]]\n"
     ]
    },
    {
     "data": {
      "text/html": [
       "<div>\n",
       "<table border=\"1\" class=\"dataframe\">\n",
       "  <thead>\n",
       "    <tr style=\"text-align: right;\">\n",
       "      <th></th>\n",
       "      <th>A</th>\n",
       "      <th>B</th>\n",
       "      <th>C</th>\n",
       "      <th>M</th>\n",
       "    </tr>\n",
       "  </thead>\n",
       "  <tbody>\n",
       "    <tr>\n",
       "      <th>0</th>\n",
       "      <td>1</td>\n",
       "      <td>2</td>\n",
       "      <td>3</td>\n",
       "      <td>100</td>\n",
       "    </tr>\n",
       "    <tr>\n",
       "      <th>1</th>\n",
       "      <td>ALL</td>\n",
       "      <td>2</td>\n",
       "      <td>3</td>\n",
       "      <td>100</td>\n",
       "    </tr>\n",
       "    <tr>\n",
       "      <th>2</th>\n",
       "      <td>1</td>\n",
       "      <td>ALL</td>\n",
       "      <td>3</td>\n",
       "      <td>100</td>\n",
       "    </tr>\n",
       "    <tr>\n",
       "      <th>3</th>\n",
       "      <td>1</td>\n",
       "      <td>2</td>\n",
       "      <td>ALL</td>\n",
       "      <td>100</td>\n",
       "    </tr>\n",
       "    <tr>\n",
       "      <th>4</th>\n",
       "      <td>ALL</td>\n",
       "      <td>ALL</td>\n",
       "      <td>3</td>\n",
       "      <td>100</td>\n",
       "    </tr>\n",
       "    <tr>\n",
       "      <th>5</th>\n",
       "      <td>ALL</td>\n",
       "      <td>2</td>\n",
       "      <td>ALL</td>\n",
       "      <td>100</td>\n",
       "    </tr>\n",
       "    <tr>\n",
       "      <th>6</th>\n",
       "      <td>ALL</td>\n",
       "      <td>ALL</td>\n",
       "      <td>3</td>\n",
       "      <td>100</td>\n",
       "    </tr>\n",
       "    <tr>\n",
       "      <th>7</th>\n",
       "      <td>1</td>\n",
       "      <td>ALL</td>\n",
       "      <td>ALL</td>\n",
       "      <td>100</td>\n",
       "    </tr>\n",
       "    <tr>\n",
       "      <th>8</th>\n",
       "      <td>ALL</td>\n",
       "      <td>2</td>\n",
       "      <td>ALL</td>\n",
       "      <td>100</td>\n",
       "    </tr>\n",
       "    <tr>\n",
       "      <th>9</th>\n",
       "      <td>1</td>\n",
       "      <td>ALL</td>\n",
       "      <td>ALL</td>\n",
       "      <td>100</td>\n",
       "    </tr>\n",
       "    <tr>\n",
       "      <th>10</th>\n",
       "      <td>ALL</td>\n",
       "      <td>ALL</td>\n",
       "      <td>ALL</td>\n",
       "      <td>100</td>\n",
       "    </tr>\n",
       "  </tbody>\n",
       "</table>\n",
       "</div>"
      ],
      "text/plain": [
       "      A    B    C    M\n",
       "0     1    2    3  100\n",
       "1   ALL    2    3  100\n",
       "2     1  ALL    3  100\n",
       "3     1    2  ALL  100\n",
       "4   ALL  ALL    3  100\n",
       "5   ALL    2  ALL  100\n",
       "6   ALL  ALL    3  100\n",
       "7     1  ALL  ALL  100\n",
       "8   ALL    2  ALL  100\n",
       "9     1  ALL  ALL  100\n",
       "10  ALL  ALL  ALL  100"
      ]
     },
     "execution_count": 111,
     "metadata": {},
     "output_type": "execute_result"
    }
   ],
   "source": [
    "input_data = read_data('./asset/c_.txt')\n",
    "output = buc_rec_optimized(input_data)\n",
    "output"
   ]
  },
  {
   "cell_type": "code",
   "execution_count": 78,
   "metadata": {
    "collapsed": false
   },
   "outputs": [
    {
     "data": {
      "text/html": [
       "<div>\n",
       "<table border=\"1\" class=\"dataframe\">\n",
       "  <thead>\n",
       "    <tr style=\"text-align: right;\">\n",
       "      <th></th>\n",
       "      <th>A</th>\n",
       "      <th>B</th>\n",
       "      <th>C</th>\n",
       "      <th>M</th>\n",
       "    </tr>\n",
       "  </thead>\n",
       "  <tbody>\n",
       "  </tbody>\n",
       "</table>\n",
       "</div>"
      ],
      "text/plain": [
       "Empty DataFrame\n",
       "Columns: [A, B, C, M]\n",
       "Index: []"
      ]
     },
     "execution_count": 78,
     "metadata": {},
     "output_type": "execute_result"
    }
   ],
   "source": [
    "a = [1,2,3,4,5]\n",
    "output.append(a)\n",
    "output"
   ]
  },
  {
   "cell_type": "markdown",
   "metadata": {},
   "source": [
    "# Question 2: Optimal binning algorithm using dynamic programming (50 points)"
   ]
  },
  {
   "cell_type": "markdown",
   "metadata": {},
   "source": [
    "You need to implement the optimal binning algorithm using the dynamic programming algorithm we discussed in the lecture. You are allowed to use $O(n^2)$ space. \n",
    "\n",
    "## Input\n",
    "\n",
    "The input contains data (in a list) and the number of bins (an integer).\n",
    "\n",
    "## Output\n",
    "\n",
    "You are required to output the binning result and the matrix computed by the algorithm.\n",
    "\n",
    "The matrix entries record optimal binning cost for a suffix of the input array using a certain number of bins. You should assign -1 to all the invalid solutions."
   ]
  },
  {
   "cell_type": "code",
   "execution_count": 5,
   "metadata": {
    "collapsed": true
   },
   "outputs": [],
   "source": [
    "x = [3, 1, 18, 11, 13, 17]\n",
    "num_bins = 4"
   ]
  },
  {
   "cell_type": "code",
   "execution_count": 58,
   "metadata": {
    "collapsed": false
   },
   "outputs": [],
   "source": [
    "def v_opt_dp(x, num_bins):# do not change the heading of the function\n",
    "    global _x, _num_bins, dp_matrix, dp_index\n",
    "\n",
    "    dp_matrix = [[-1 for i in range(len(x))] for j in range(num_bins)]\n",
    "    dp_index = [[-1 for i in range(len(x))] for j in range(num_bins)]\n",
    "    _x = x\n",
    "    _num_bins = num_bins\n",
    "    _v_opt_dp(0, num_bins-1) #bin is 0-3\n",
    "\n",
    "    start = dp_index[-1][0]\n",
    "    pre_start = start\n",
    "    bins = [x[:start]]\n",
    "    for i in range(len(dp_index)-2, 0, -1):\n",
    "        start = dp_index[i][start]\n",
    "        bins.append(x[pre_start:start])\n",
    "        pre_start = start\n",
    "    bins.append(x[pre_start:])\n",
    "    return dp_matrix, bins\n",
    "\n",
    "def _v_opt_dp(mtx_x, remain_bins): #mtx_x is the index of x, we will put\n",
    "                                    #all element behind it to the reamin bin\n",
    "    \n",
    "    global _x, _num_bins, dp_matrix, dp_index\n",
    "    \n",
    "    if( _num_bins - remain_bins - mtx_x < 2) and (len(_x) - mtx_x > remain_bins):\n",
    "        _v_opt_dp(mtx_x+1, remain_bins)\n",
    "        if(remain_bins == 0):\n",
    "            dp_matrix[remain_bins][mtx_x] = np.var(_x[mtx_x:])*len(_x[mtx_x:])\n",
    "            return \n",
    "\n",
    "        _v_opt_dp(mtx_x, remain_bins - 1)  \n",
    "\n",
    "        min_list = [dp_matrix[remain_bins-1][mtx_x+1]]\n",
    "\n",
    "        for i in range(mtx_x+2, len(_x)):\n",
    "            min_list.append(dp_matrix[remain_bins-1][i] + (i - mtx_x)*np.var(_x[mtx_x:i])) \n",
    "\n",
    "        dp_matrix[remain_bins][mtx_x] = min(min_list)\n",
    "        dp_index[remain_bins][mtx_x] = min_list.index(min(min_list)) + mtx_x +1\n",
    "\n",
    "    \n"
   ]
  },
  {
   "cell_type": "code",
   "execution_count": 59,
   "metadata": {
    "collapsed": false
   },
   "outputs": [],
   "source": [
    "dp_list =v_opt_dp(x, num_bins)\n",
    "#print(dp_list)"
   ]
  },
  {
   "cell_type": "code",
   "execution_count": 60,
   "metadata": {
    "collapsed": false
   },
   "outputs": [
    {
     "name": "stdout",
     "output_type": "stream",
     "text": [
      "[4.0, 2.0, 0.0, -1, -1, -1]\n",
      "[-1, 18.666666666666664, 2.0, 0.0, -1, -1]\n",
      "[-1, -1, 18.666666666666664, 2.0, 0.0, -1]\n",
      "[[3, 1], [18], [11, 13], [17]]\n"
     ]
    }
   ],
   "source": [
    "matrix, bins = v_opt_dp(x, num_bins)\n",
    "\n",
    "for i in matrix[:0:-1]:\n",
    "    print(i)\n",
    "print(bins)"
   ]
  },
  {
   "cell_type": "code",
   "execution_count": 47,
   "metadata": {
    "collapsed": false
   },
   "outputs": [
    {
     "name": "stdout",
     "output_type": "stream",
     "text": [
      "3\n",
      "2\n",
      "1\n"
     ]
    }
   ],
   "source": [
    "for i in range(3,0,-1):\n",
    "    print(i)"
   ]
  },
  {
   "cell_type": "code",
   "execution_count": 9,
   "metadata": {
    "collapsed": false
   },
   "outputs": [
    {
     "ename": "NameError",
     "evalue": "name 'matrix' is not defined",
     "output_type": "error",
     "traceback": [
      "\u001b[0;31m---------------------------------------------------------------------------\u001b[0m",
      "\u001b[0;31mNameError\u001b[0m                                 Traceback (most recent call last)",
      "\u001b[0;32m<ipython-input-9-d19d5481206f>\u001b[0m in \u001b[0;36m<module>\u001b[0;34m()\u001b[0m\n\u001b[0;32m----> 1\u001b[0;31m \u001b[1;32mfor\u001b[0m \u001b[0mrow\u001b[0m \u001b[1;32min\u001b[0m \u001b[0mmatrix\u001b[0m\u001b[1;33m:\u001b[0m\u001b[1;33m\u001b[0m\u001b[0m\n\u001b[0m\u001b[1;32m      2\u001b[0m     \u001b[0mprint\u001b[0m\u001b[1;33m(\u001b[0m\u001b[0mrow\u001b[0m\u001b[1;33m)\u001b[0m\u001b[1;33m\u001b[0m\u001b[0m\n",
      "\u001b[0;31mNameError\u001b[0m: name 'matrix' is not defined"
     ]
    }
   ],
   "source": [
    "for row in matrix:\n",
    "    print(row)"
   ]
  },
  {
   "cell_type": "code",
   "execution_count": 27,
   "metadata": {
    "collapsed": false
   },
   "outputs": [
    {
     "data": {
      "text/plain": [
       "6"
      ]
     },
     "execution_count": 27,
     "metadata": {},
     "output_type": "execute_result"
    }
   ],
   "source": [
    "a = [1,2,3]\n",
    "sum(a)"
   ]
  },
  {
   "cell_type": "code",
   "execution_count": null,
   "metadata": {
    "collapsed": true
   },
   "outputs": [],
   "source": []
  }
 ],
 "metadata": {
  "kernelspec": {
   "display_name": "Python 3",
   "language": "python",
   "name": "python3"
  },
  "language_info": {
   "codemirror_mode": {
    "name": "ipython",
    "version": 3
   },
   "file_extension": ".py",
   "mimetype": "text/x-python",
   "name": "python",
   "nbconvert_exporter": "python",
   "pygments_lexer": "ipython3",
   "version": "3.6.0"
  }
 },
 "nbformat": 4,
 "nbformat_minor": 0
}
