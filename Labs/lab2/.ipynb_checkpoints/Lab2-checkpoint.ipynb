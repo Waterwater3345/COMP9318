{
 "cells": [
  {
   "cell_type": "markdown",
   "metadata": {},
   "source": [
    "# Question 1: Optimized BUC algorithm (50 points)\n",
    "\n",
    "You need to implement the full `buc_rec_optimized` algorithm with the single-tuple optimization (to be described below). Given an input dataframe\n",
    "\n",
    " A | B | M \n",
    "---|---|---\n",
    " 1 | 2 | 100\n",
    " 2 | 1 | 20\n",
    "\n",
    "Invoking on `buc_rec_optimized` will have the following dataframe: \n",
    "\n",
    "\n",
    " A | B | M\n",
    "---|---|---\n",
    " 1 | 2 | 100\n",
    " 1 |ALL| 100\n",
    " 2 | 1 | 20 \n",
    " 2 |ALL| 20\n",
    "ALL| 1 | 20\n",
    "ALL| 2 | 100\n",
    "ALL|ALL| 120\n",
    "\n",
    "In the submission file, the `buc_rec_optimized` function and its helper functions are all pre-defined. \n",
    "\n",
    "## Input and output\n",
    "\n",
    "The input and output are both dataframes.\n",
    "\n",
    "The input dataframe (i.e., the base cuboid) is directly generated from a csv file. Given the dimensionality of the base cuboid is $d$, each row is like:\n",
    "\n",
    "<pre>\n",
    "v_1  v_2 ...  v_d  m\n",
    "</pre>\n",
    "\n",
    "where v_i is the cell's value on the i-th dimension, and m is the measure value. \n",
    "\n",
    "The output dataframe contains $n$ rows, each for a non-empty cell in the compute data cube derived from the input base cuboid. Each row is formatted like input:\n",
    "\n",
    "<pre>\n",
    "v_1  v_2 ...  v_d  m\n",
    "</pre>\n",
    "\n",
    "where v_i is the cell's value on the i-th dimension, and m is the measure value. \n",
    "\n",
    "\n",
    "## The single-tuple optimization\n",
    "\n",
    "Consider the naive way of recursive implementation of the BUC algorithm, you will notice that it uses several recursive calls to compute all the derived results from an input that consists of only one tuple. This is certainly a waste of computation. \n",
    "\n",
    "For example, if we are asked to compute the cube given the following input\n",
    "\n",
    " B | C | M \n",
    "---|---|---\n",
    " 1 | 2 | 100\n",
    "\n",
    "We can immmediately output the following, **without** using any recursive calls. \n",
    "\n",
    "<pre>\n",
    "1    2    100\n",
    "*    2    100\n",
    "1    *    100\n",
    "*    *    100\n",
    "</pre>\n",
    "\n"
   ]
  },
  {
   "cell_type": "code",
   "execution_count": 2,
   "metadata": {
    "collapsed": true
   },
   "outputs": [],
   "source": [
    "# These are the only modules that you can use in lab2\n",
    "import pandas as pd\n",
    "import numpy as np"
   ]
  },
  {
   "cell_type": "code",
   "execution_count": 3,
   "metadata": {
    "collapsed": true
   },
   "outputs": [],
   "source": [
    "##============================================================\n",
    "# Data file format: \n",
    "# * tab-delimited input file\n",
    "# * 1st line: dimension names and the last dimension is assumed to be the measure\n",
    "# * rest of the lines: data values.\n",
    "\n",
    "def read_data(filename):\n",
    "    df = pd.read_csv(filename, sep='\\t')\n",
    "    return (df)\n",
    "      \n",
    "# helper functions\n",
    "def project_data(df, d):\n",
    "    # Return only the d-th column of INPUT\n",
    "    return df.iloc[:, d]\n",
    "\n",
    "def select_data(df, d, val):\n",
    "    # SELECT * FROM INPUT WHERE input.d = val\n",
    "    col_name = df.columns[d]\n",
    "    return df[df[col_name] == val]\n",
    "\n",
    "def remove_first_dim(df):\n",
    "    # Remove the first dim of the input\n",
    "    return df.iloc[:, 1:]\n",
    "\n",
    "def slice_data_dim0(df, v):\n",
    "    # syntactic sugar to get R_{ALL} in a less verbose way\n",
    "    df_temp = select_data(df, 0, v)\n",
    "    return remove_first_dim(df_temp)"
   ]
  },
  {
   "cell_type": "code",
   "execution_count": 4,
   "metadata": {
    "collapsed": false
   },
   "outputs": [],
   "source": [
    "def deepcopy(list):\n",
    "    b = []\n",
    "    for i in list:\n",
    "        b.append(i)\n",
    "    return b\n",
    "\n",
    "def output(val):\n",
    "    print('=>\\t{}'.format(val))\n",
    "\n",
    "def buc_rec_optimized(df):# do not change the heading of the function\n",
    "    all_list = []\n",
    "    \n",
    "    header = list(df)\n",
    "    df_out = pd.DataFrame(columns = header)\n",
    "    output = _buc_rec_optimized(df, [], df_out)\n",
    "    return df_out\n",
    "    \n",
    "def _buc_rec_optimized(df, pre_num, df_out):#help function\n",
    "    # Note that input is a DataFrame\n",
    "    dims = df.shape[1]\n",
    "    \n",
    "    if dims == 1:\n",
    "        # only the measure dim\n",
    "        input_sum = sum( project_data(df, 0) )\n",
    "        pre_num.append(input_sum)\n",
    "\n",
    "        df_out.loc[len(df_out)] = pre_num\n",
    "        \n",
    "    else:\n",
    "        # the general case\n",
    "\n",
    "        dim0_vals = set(project_data(df, 0).values)\n",
    "        temp_pre_num = deepcopy(pre_num)\n",
    "        for dim0_v in dim0_vals:\n",
    "            pre_num = deepcopy(temp_pre_num)\n",
    "            sub_data = slice_data_dim0(df, dim0_v)   \n",
    "            pre_num.append(dim0_v)\n",
    "            \n",
    "            _buc_rec_optimized(sub_data, pre_num, df_out)\n",
    "        ## for R_{ALL}\n",
    "        sub_data = remove_first_dim(df)\n",
    "        \n",
    "        pre_num = deepcopy(temp_pre_num)\n",
    "        pre_num.append(\"ALL\")\n",
    "        _buc_rec_optimized(sub_data, pre_num, df_out)  \n"
   ]
  },
  {
   "cell_type": "code",
   "execution_count": 7,
   "metadata": {
    "collapsed": false
   },
   "outputs": [
    {
     "data": {
      "text/html": [
       "<div>\n",
       "<table border=\"1\" class=\"dataframe\">\n",
       "  <thead>\n",
       "    <tr style=\"text-align: right;\">\n",
       "      <th></th>\n",
       "      <th>A</th>\n",
       "      <th>B</th>\n",
       "      <th>M</th>\n",
       "    </tr>\n",
       "  </thead>\n",
       "  <tbody>\n",
       "    <tr>\n",
       "      <th>0</th>\n",
       "      <td>1</td>\n",
       "      <td>2</td>\n",
       "      <td>100.0</td>\n",
       "    </tr>\n",
       "    <tr>\n",
       "      <th>1</th>\n",
       "      <td>1</td>\n",
       "      <td>ALL</td>\n",
       "      <td>100.0</td>\n",
       "    </tr>\n",
       "    <tr>\n",
       "      <th>2</th>\n",
       "      <td>2</td>\n",
       "      <td>1</td>\n",
       "      <td>20.0</td>\n",
       "    </tr>\n",
       "    <tr>\n",
       "      <th>3</th>\n",
       "      <td>2</td>\n",
       "      <td>ALL</td>\n",
       "      <td>20.0</td>\n",
       "    </tr>\n",
       "    <tr>\n",
       "      <th>4</th>\n",
       "      <td>ALL</td>\n",
       "      <td>1</td>\n",
       "      <td>20.0</td>\n",
       "    </tr>\n",
       "    <tr>\n",
       "      <th>5</th>\n",
       "      <td>ALL</td>\n",
       "      <td>2</td>\n",
       "      <td>100.0</td>\n",
       "    </tr>\n",
       "    <tr>\n",
       "      <th>6</th>\n",
       "      <td>ALL</td>\n",
       "      <td>ALL</td>\n",
       "      <td>120.0</td>\n",
       "    </tr>\n",
       "  </tbody>\n",
       "</table>\n",
       "</div>"
      ],
      "text/plain": [
       "     A    B      M\n",
       "0    1    2  100.0\n",
       "1    1  ALL  100.0\n",
       "2    2    1   20.0\n",
       "3    2  ALL   20.0\n",
       "4  ALL    1   20.0\n",
       "5  ALL    2  100.0\n",
       "6  ALL  ALL  120.0"
      ]
     },
     "execution_count": 7,
     "metadata": {},
     "output_type": "execute_result"
    }
   ],
   "source": [
    "input_data = read_data('./asset/c_.txt')\n",
    "output = buc_rec_optimized(input_data)\n",
    "output\n"
   ]
  },
  {
   "cell_type": "markdown",
   "metadata": {},
   "source": [
    "# Question 2: Optimal binning algorithm using dynamic programming (50 points)"
   ]
  },
  {
   "cell_type": "markdown",
   "metadata": {},
   "source": [
    "You need to implement the optimal binning algorithm using the dynamic programming algorithm we discussed in the lecture. You are allowed to use $O(n^2)$ space. \n",
    "\n",
    "## Input\n",
    "\n",
    "The input contains data (in a list) and the number of bins (an integer).\n",
    "\n",
    "## Output\n",
    "\n",
    "You are required to output the binning result and the matrix computed by the algorithm.\n",
    "\n",
    "The matrix entries record optimal binning cost for a suffix of the input array using a certain number of bins. You should assign -1 to all the invalid solutions."
   ]
  },
  {
   "cell_type": "code",
   "execution_count": 17,
   "metadata": {
    "collapsed": true
   },
   "outputs": [],
   "source": [
    "x = [3, 1, 18, 11, 13, 17]\n",
    "num_bins = 4"
   ]
  },
  {
   "cell_type": "code",
   "execution_count": 294,
   "metadata": {
    "collapsed": false
   },
   "outputs": [],
   "source": [
    "def v_opt_dp(x, num_bins):# do not change the heading of the function\n",
    "    global _x, _num_bins, dp_matrix\n",
    "\n",
    "    dp_matrix = [[-1 for i in range(len(x))] for j in range(num_bins)]\n",
    "\n",
    "    _x = x\n",
    "    _num_bins = num_bins\n",
    "    _v_opt_dp(0, num_bins-1) #bin is 0-3\n",
    "    for i in range(len(dp_matrix)): #transfer 0 from float to int\n",
    "        for j in range(len(dp_matrix[i])):\n",
    "            if(dp_matrix[i][j] == 0.0):\n",
    "                dp_matrix[i][j] = int(0)\n",
    "    return dp_matrix\n",
    "\n",
    "def _v_opt_dp(mtx_x, remain_bins): #mtx_x is the index of x, we will put\n",
    "                                    #all element behind it to the reamin bin\n",
    "    \n",
    "    global _x, _num_bins, dp_matrix\n",
    "    \n",
    "    if( _num_bins - remain_bins - mtx_x < 2) and (len(_x) - mtx_x > remain_bins):\n",
    "        _v_opt_dp(mtx_x+1, remain_bins)\n",
    "        if(remain_bins == 0):\n",
    "            dp_matrix[remain_bins][mtx_x] = np.var(_x[mtx_x:])*len(_x[mtx_x:])\n",
    "            return \n",
    "\n",
    "        _v_opt_dp(mtx_x, remain_bins - 1)  \n",
    "\n",
    "        min_list = [dp_matrix[remain_bins-1][mtx_x+1]]\n",
    "\n",
    "        for i in range(mtx_x+1, len(_x)):\n",
    "            min_list.append(dp_matrix[remain_bins-1][i] + (i - mtx_x)*np.var(_x[mtx_x:i])) \n",
    "\n",
    "        dp_matrix[remain_bins][mtx_x] = min(min_list)\n",
    "        \n",
    "\n",
    "    \n"
   ]
  },
  {
   "cell_type": "code",
   "execution_count": 295,
   "metadata": {
    "collapsed": false
   },
   "outputs": [
    {
     "name": "stdout",
     "output_type": "stream",
     "text": [
      "[[-1, -1, -1, 18.666666666666664, 8.0, 0], [-1, -1, 18.666666666666664, 2.0, 0, -1], [-1, 18.666666666666664, 2.0, 0, -1, -1], [4.0, 2.0, 0, -1, -1, -1]]\n"
     ]
    }
   ],
   "source": [
    "dp_list =v_opt_dp(x, num_bins)\n",
    "print(dp_list)"
   ]
  },
  {
   "cell_type": "code",
   "execution_count": 244,
   "metadata": {
    "collapsed": false
   },
   "outputs": [
    {
     "ename": "ValueError",
     "evalue": "too many values to unpack (expected 2)",
     "output_type": "error",
     "traceback": [
      "\u001b[0;31m---------------------------------------------------------------------------\u001b[0m",
      "\u001b[0;31mValueError\u001b[0m                                Traceback (most recent call last)",
      "\u001b[0;32m<ipython-input-244-0a3837e2d12b>\u001b[0m in \u001b[0;36m<module>\u001b[0;34m()\u001b[0m\n\u001b[0;32m----> 1\u001b[0;31m \u001b[0mmatrix\u001b[0m\u001b[1;33m,\u001b[0m \u001b[0mbins\u001b[0m \u001b[1;33m=\u001b[0m \u001b[0mv_opt_dp\u001b[0m\u001b[1;33m(\u001b[0m\u001b[0mx\u001b[0m\u001b[1;33m,\u001b[0m \u001b[0mnum_bins\u001b[0m\u001b[1;33m)\u001b[0m\u001b[1;33m\u001b[0m\u001b[0m\n\u001b[0m\u001b[1;32m      2\u001b[0m \u001b[0mprint\u001b[0m\u001b[1;33m(\u001b[0m\u001b[0mbins\u001b[0m\u001b[1;33m)\u001b[0m\u001b[1;33m\u001b[0m\u001b[0m\n",
      "\u001b[0;31mValueError\u001b[0m: too many values to unpack (expected 2)"
     ]
    }
   ],
   "source": [
    "matrix, bins = v_opt_dp(x, num_bins)\n",
    "print(bins)"
   ]
  },
  {
   "cell_type": "code",
   "execution_count": 245,
   "metadata": {
    "collapsed": false
   },
   "outputs": [],
   "source": [
    "for i in range(1,1):\n",
    "    print(i)"
   ]
  },
  {
   "cell_type": "code",
   "execution_count": 8,
   "metadata": {
    "collapsed": false
   },
   "outputs": [
    {
     "name": "stdout",
     "output_type": "stream",
     "text": [
      "[-1, -1, -1, 18.666666666666664, 8.0, 0]\n",
      "[-1, -1, 18.666666666666664, 2.0, 0, -1]\n",
      "[-1, 18.666666666666664, 2.0, 0, -1, -1]\n",
      "[4.0, 2.0, 0, -1, -1, -1]\n"
     ]
    }
   ],
   "source": [
    "for row in matrix:\n",
    "    print(row)"
   ]
  }
 ],
 "metadata": {
  "kernelspec": {
   "display_name": "Python 3",
   "language": "python",
   "name": "python3"
  },
  "language_info": {
   "codemirror_mode": {
    "name": "ipython",
    "version": 3
   },
   "file_extension": ".py",
   "mimetype": "text/x-python",
   "name": "python",
   "nbconvert_exporter": "python",
   "pygments_lexer": "ipython3",
   "version": "3.6.0"
  }
 },
 "nbformat": 4,
 "nbformat_minor": 0
}
